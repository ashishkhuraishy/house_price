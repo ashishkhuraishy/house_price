{
 "cells": [
  {
   "cell_type": "code",
   "execution_count": 1,
   "metadata": {
    "_uuid": "25b29d6c36165a27fec9a3336cf80d65580d0cc0"
   },
   "outputs": [
    {
     "name": "stderr",
     "output_type": "stream",
     "text": [
      "c:\\users\\ashish khuraishy\\appdata\\local\\programs\\python\\python37-32\\lib\\site-packages\\sklearn\\ensemble\\weight_boosting.py:29: DeprecationWarning: numpy.core.umath_tests is an internal NumPy module and should not be imported. It will be removed in a future NumPy release.\n",
      "  from numpy.core.umath_tests import inner1d\n"
     ]
    }
   ],
   "source": [
    "# Code you have previously used to load data\n",
    "import pandas as pd\n",
    "from sklearn.ensemble import RandomForestRegressor as rfr\n",
    "from sklearn.metrics import mean_absolute_error as mae\n",
    "from sklearn.model_selection import train_test_split\n",
    "from sklearn.tree import DecisionTreeRegressor as dtr\n",
    "\n",
    "\n",
    "\n",
    "\n",
    "# Path of the file to read. We changed the directory structure to simplify submitting to a competition\n",
    "iowa_file_path = 'C:/Users/Ashish Khuraishy/Desktop/New folder/Housing Data/train.csv'\n",
    "home_data = pd.read_csv(iowa_file_path)\n",
    "# Create target object and call it y\n",
    "y = home_data.SalePrice\n",
    "# Create X\n",
    "data = home_data.drop(['SalePrice'], axis = 1 )\n",
    "#features = ['LotArea', 'YearBuilt', '1stFlrSF', '2ndFlrSF', 'FullBath', 'BedroomAbvGr', 'TotRmsAbvGrd']\n",
    "\n",
    "X = data.select_dtypes(exclude = ['object'])\n",
    "\n"
   ]
  },
  {
   "cell_type": "code",
   "execution_count": 2,
   "metadata": {},
   "outputs": [],
   "source": [
    "#home_data.describe()"
   ]
  },
  {
   "cell_type": "code",
   "execution_count": 3,
   "metadata": {},
   "outputs": [],
   "source": [
    "#X.head()"
   ]
  },
  {
   "cell_type": "markdown",
   "metadata": {},
   "source": [
    "# Comparing\n",
    "## 1. Decision Tree regressor\n",
    "## 2. random Forest Regressor"
   ]
  },
  {
   "cell_type": "code",
   "execution_count": 4,
   "metadata": {
    "scrolled": false
   },
   "outputs": [
    {
     "name": "stderr",
     "output_type": "stream",
     "text": [
      "c:\\users\\ashish khuraishy\\appdata\\local\\programs\\python\\python37-32\\lib\\site-packages\\sklearn\\model_selection\\_split.py:2026: FutureWarning: From version 0.21, test_size will always complement train_size unless both are specified.\n",
      "  FutureWarning)\n"
     ]
    }
   ],
   "source": [
    "# Split into validation and training data\n",
    "train_X, val_X, train_y, val_y = train_test_split(X, y, train_size = 0.7)\n",
    "\n",
    "def score_data(train_X, train_y, val_X, val_y):\n",
    "    model1 = dtr()\n",
    "    model2 = rfr(random_state = 1)\n",
    "    model1.fit(train_X, train_y)\n",
    "    model2.fit(train_X, train_y)\n",
    "    pred1 = model1.predict(val_X)\n",
    "    pred2 = model2.predict(val_X)\n",
    "    score1 = model1.score(val_X, val_y)\n",
    "    score2 = model2.score(val_X, val_y)\n",
    "    MAE1 = mae(pred1, val_y)\n",
    "    MAE2 = mae(pred2, val_y)\n",
    "    return \"Accuracy Score DTR : {}% \\tMean Absolute Error DTR : {}$ \\nAccuracy Score RFR : {}% \\tMean Absolute Error RFR : {}$\".format(round(score1*100, 2), round(MAE1, 2), round(score2*100, 2), round(MAE2, 2))\n",
    "\n"
   ]
  },
  {
   "cell_type": "markdown",
   "metadata": {},
   "source": [
    "# Mean Absolute Error And AccuracY Score:"
   ]
  },
  {
   "cell_type": "markdown",
   "metadata": {},
   "source": [
    "## 1.Dropping Down Columns"
   ]
  },
  {
   "cell_type": "code",
   "execution_count": 5,
   "metadata": {},
   "outputs": [
    {
     "name": "stdout",
     "output_type": "stream",
     "text": [
      "Accuracy Score DTR : 73.11% \tMean Absolute Error DTR : 27584.21$ \n",
      "Accuracy Score RFR : 88.23% \tMean Absolute Error RFR : 18135.35$\n"
     ]
    }
   ],
   "source": [
    "cols_with_missing = [col for col in train_X.columns if train_X[col].isnull().any()]\n",
    "\n",
    "red_train_x = train_X.drop(cols_with_missing, axis = 1)\n",
    "red_val_x = val_X.drop(cols_with_missing, axis = 1)\n",
    "print(score_data(red_train_x, train_y, red_val_x, val_y))"
   ]
  },
  {
   "cell_type": "markdown",
   "metadata": {},
   "source": [
    "## 2.Model Score From Imputation"
   ]
  },
  {
   "cell_type": "code",
   "execution_count": 6,
   "metadata": {},
   "outputs": [],
   "source": [
    "imputed_X_train_plus = train_X.copy()\n",
    "imputed_X_test_plus = val_X.copy()\n",
    "\n",
    "cols_with_missing = (col for col in train_X.columns if train_X[col].isnull().any())\n",
    "\n",
    "for col in cols_with_missing:\n",
    "    imputed_X_train_plus[col + '_was_missing'] = imputed_X_train_plus[col].isnull()\n",
    "    imputed_X_test_plus[col + '_was_missing'] = imputed_X_test_plus[col].isnull()\n",
    "#print(imputed_X_train_plus, \"\\n\", imputed_X_test_plus)"
   ]
  },
  {
   "cell_type": "code",
   "execution_count": 7,
   "metadata": {},
   "outputs": [
    {
     "name": "stdout",
     "output_type": "stream",
     "text": [
      "Accuracy Score DTR : 76.4% \tMean Absolute Error DTR : 27602.28$ \n",
      "Accuracy Score RFR : 86.35% \tMean Absolute Error RFR : 18920.76$\n"
     ]
    }
   ],
   "source": [
    "from sklearn.preprocessing import Imputer\n",
    "impt = Imputer()\n",
    "impt_train_x = impt.fit_transform(train_X)\n",
    "impt_val_x = impt.fit_transform(val_X)\n",
    "print(score_data(impt_train_x, train_y, impt_val_x, val_y))"
   ]
  },
  {
   "cell_type": "markdown",
   "metadata": {},
   "source": [
    "# Final code\n",
    "_____________________\n",
    "### From our comparing we reached a conclusion that RFR has greater Accuracy and lesser Mean Absolute Error than DTR.\n",
    "### So we will be using RFR for our Final_Model"
   ]
  },
  {
   "cell_type": "code",
   "execution_count": 8,
   "metadata": {},
   "outputs": [],
   "source": [
    "iowa_test_path = 'C:/Users/Ashish Khuraishy/Desktop/New folder/Housing Data/test.csv'\n",
    "test_iowa = pd.read_csv(iowa_test_path)\n",
    "test_data = test_iowa.select_dtypes(exclude = ['object'])\n",
    "impt_X = impt.fit_transform(X)\n",
    "impt_test_data = impt.fit_transform(test_data)\n",
    "#test_data.head()\n",
    "#print(impt_test_data)"
   ]
  },
  {
   "cell_type": "code",
   "execution_count": 9,
   "metadata": {},
   "outputs": [],
   "source": [
    "final_model = rfr()\n",
    "final_model.fit(impt_X, y)\n",
    "pred = final_model.predict(impt_test_data)\n",
    "#print(pred)"
   ]
  },
  {
   "cell_type": "markdown",
   "metadata": {},
   "source": [
    "# Output"
   ]
  },
  {
   "cell_type": "code",
   "execution_count": 10,
   "metadata": {},
   "outputs": [],
   "source": [
    "output = pd.DataFrame({'Id' : test_data.Id, 'SalePrice' : pred})\n",
    "output.to_csv('submission2.csv', index = False)"
   ]
  }
 ],
 "metadata": {
  "kernelspec": {
   "display_name": "Python 3",
   "language": "python",
   "name": "python3"
  },
  "language_info": {
   "codemirror_mode": {
    "name": "ipython",
    "version": 3
   },
   "file_extension": ".py",
   "mimetype": "text/x-python",
   "name": "python",
   "nbconvert_exporter": "python",
   "pygments_lexer": "ipython3",
   "version": "3.7.0"
  }
 },
 "nbformat": 4,
 "nbformat_minor": 1
}
